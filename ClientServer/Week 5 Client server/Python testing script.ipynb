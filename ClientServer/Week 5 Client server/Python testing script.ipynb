{
 "cells": [
  {
   "cell_type": "code",
   "execution_count": 2,
   "metadata": {},
   "outputs": [
    {
     "name": "stdout",
     "output_type": "stream",
     "text": [
      "connect to aac Database.\n"
     ]
    }
   ],
   "source": [
    "from AnimalShelter import AnimalShelter\n",
    "from bson import ObjectId\n",
    "\n",
    "aac = AnimalShelter()\n",
    "print(f\"connect to {aac.database.name} Database.\")"
   ]
  },
  {
   "cell_type": "code",
   "execution_count": 3,
   "metadata": {},
   "outputs": [
    {
     "name": "stdout",
     "output_type": "stream",
     "text": [
      "[{'name': 'Chris', 'animal_type': 'Parrot'}]\n"
     ]
    }
   ],
   "source": [
    "#import what i need to test\n",
    "from AnimalShelter import AnimalShelter\n",
    "\n",
    "\n",
    "\n",
    "\n",
    "#crud - create-read-update-delete\n",
    "\n",
    "#insert the document to be done\n",
    "animaldata = [{\"name\":\"Chris\", \"animal_type\":\"Parrot\"}]\n",
    "animal = animaldata  \n",
    "print (animal)"
   ]
  },
  {
   "cell_type": "code",
   "execution_count": 4,
   "metadata": {},
   "outputs": [
    {
     "name": "stdout",
     "output_type": "stream",
     "text": [
      "[{'name': 'Chris'}, {'type': 'dog'}]\n"
     ]
    }
   ],
   "source": [
    "#Create\n",
    "result = ([{\"name\":\"Chris\"}, {\"type\": \"dog\"}])\n",
    "insert_result = animal.insert(1,result)\n",
    "print (result)"
   ]
  },
  {
   "cell_type": "code",
   "execution_count": 12,
   "metadata": {},
   "outputs": [
    {
     "ename": "AttributeError",
     "evalue": "'list' object has no attribute 'Read'",
     "output_type": "error",
     "traceback": [
      "\u001b[0;31m---------------------------------------------------------------------------\u001b[0m",
      "\u001b[0;31mAttributeError\u001b[0m                            Traceback (most recent call last)",
      "\u001b[0;32m<ipython-input-12-db15b5893f8e>\u001b[0m in \u001b[0;36m<module>\u001b[0;34m\u001b[0m\n\u001b[1;32m      2\u001b[0m \u001b[0;34m\u001b[0m\u001b[0m\n\u001b[1;32m      3\u001b[0m \u001b[0;31m#result = ([{\"name\":\"Chris\"}, {\"type\": \"dog\"}])\u001b[0m\u001b[0;34m\u001b[0m\u001b[0;34m\u001b[0m\u001b[0;34m\u001b[0m\u001b[0m\n\u001b[0;32m----> 4\u001b[0;31m \u001b[0mresults\u001b[0m \u001b[0;34m=\u001b[0m \u001b[0manimal\u001b[0m\u001b[0;34m.\u001b[0m\u001b[0mRead\u001b[0m\u001b[0;34m(\u001b[0m\u001b[0mresult\u001b[0m\u001b[0;34m)\u001b[0m\u001b[0;34m\u001b[0m\u001b[0;34m\u001b[0m\u001b[0m\n\u001b[0m\u001b[1;32m      5\u001b[0m \u001b[0;31m#results = animal.read([{\"name\":\"Chris\"}, {\"type\": \"dog\"}])\u001b[0m\u001b[0;34m\u001b[0m\u001b[0;34m\u001b[0m\u001b[0;34m\u001b[0m\u001b[0m\n\u001b[1;32m      6\u001b[0m \u001b[0mprint\u001b[0m \u001b[0;34m(\u001b[0m\u001b[0mresults\u001b[0m\u001b[0;34m)\u001b[0m\u001b[0;34m\u001b[0m\u001b[0;34m\u001b[0m\u001b[0m\n",
      "\u001b[0;31mAttributeError\u001b[0m: 'list' object has no attribute 'Read'"
     ]
    }
   ],
   "source": [
    "\n",
    "#read\n",
    "\n",
    "#result = ([{\"name\":\"Chris\"}, {\"type\": \"dog\"}])\n",
    "results = animal.Read(result)\n",
    "#results = animal.read([{\"name\":\"Chris\"}, {\"type\": \"dog\"}])\n",
    "print (results)\n"
   ]
  },
  {
   "cell_type": "code",
   "execution_count": 16,
   "metadata": {},
   "outputs": [
    {
     "name": "stdout",
     "output_type": "stream",
     "text": [
      "[{'name': 'Chris'}, {'type': 'cat'}, {'Personality': 'Independent'}]\n"
     ]
    }
   ],
   "source": [
    "\n",
    "#update animal data\n",
    "\n",
    "#resultupdate = animal.insert({\"name\":\"Chris\"}, {\"type\": \"cat\"})\n",
    "#print (resultupdate)\n",
    "\n",
    "result = ([{\"name\":\"Chris\"}, {\"type\": \"cat\"}, {\"Personality\" : \"Independent\"}])\n",
    "insert_result = animal.insert(1,result)\n",
    "print (result)"
   ]
  },
  {
   "cell_type": "code",
   "execution_count": 30,
   "metadata": {},
   "outputs": [
    {
     "ename": "AttributeError",
     "evalue": "'list' object has no attribute 'delete_one'",
     "output_type": "error",
     "traceback": [
      "\u001b[0;31m---------------------------------------------------------------------------\u001b[0m",
      "\u001b[0;31mAttributeError\u001b[0m                            Traceback (most recent call last)",
      "\u001b[0;32m<ipython-input-30-04ee9edbd69e>\u001b[0m in \u001b[0;36m<module>\u001b[0;34m\u001b[0m\n\u001b[1;32m      1\u001b[0m \u001b[0;31m#delete\u001b[0m\u001b[0;34m\u001b[0m\u001b[0;34m\u001b[0m\u001b[0;34m\u001b[0m\u001b[0m\n\u001b[0;32m----> 2\u001b[0;31m \u001b[0mresult\u001b[0m\u001b[0;34m.\u001b[0m\u001b[0mdelete_one\u001b[0m\u001b[0;34m(\u001b[0m\u001b[0;34m\"Personality\"\u001b[0m\u001b[0;34m)\u001b[0m\u001b[0;34m\u001b[0m\u001b[0;34m\u001b[0m\u001b[0m\n\u001b[0m\u001b[1;32m      3\u001b[0m \u001b[0mprint\u001b[0m \u001b[0;34m(\u001b[0m\u001b[0mresult\u001b[0m\u001b[0;34m.\u001b[0m\u001b[0mdelete_count\u001b[0m\u001b[0;34m)\u001b[0m\u001b[0;34m\u001b[0m\u001b[0;34m\u001b[0m\u001b[0m\n",
      "\u001b[0;31mAttributeError\u001b[0m: 'list' object has no attribute 'delete_one'"
     ]
    }
   ],
   "source": [
    "\n",
    "#delete\n",
    "result.delete_one(\"Personality\")\n",
    "print (result.delete_count)\n"
   ]
  },
  {
   "cell_type": "code",
   "execution_count": null,
   "metadata": {},
   "outputs": [],
   "source": []
  },
  {
   "cell_type": "code",
   "execution_count": null,
   "metadata": {},
   "outputs": [],
   "source": []
  }
 ],
 "metadata": {
  "kernelspec": {
   "display_name": "Python 3",
   "language": "python",
   "name": "python3"
  },
  "language_info": {
   "codemirror_mode": {
    "name": "ipython",
    "version": 3
   },
   "file_extension": ".py",
   "mimetype": "text/x-python",
   "name": "python",
   "nbconvert_exporter": "python",
   "pygments_lexer": "ipython3",
   "version": "3.6.9"
  }
 },
 "nbformat": 4,
 "nbformat_minor": 2
}
